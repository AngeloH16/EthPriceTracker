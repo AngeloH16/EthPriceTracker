{
 "cells": [
  {
   "attachments": {},
   "cell_type": "markdown",
   "metadata": {},
   "source": [
    "Test notebook for pulling API data\n",
    "\n",
    "Testing using EtherScan - getting historical gas prices: https://docs.etherscan.io/api-endpoints/gas-tracker#get-daily-average-gas-limit"
   ]
  },
  {
   "cell_type": "code",
   "execution_count": 60,
   "metadata": {},
   "outputs": [],
   "source": [
    "# Import Packages\n",
    "import requests\n",
    "import json\n",
    "import pandas as pd\n"
   ]
  },
  {
   "attachments": {},
   "cell_type": "markdown",
   "metadata": {},
   "source": [
    "Envinroment Loading"
   ]
  },
  {
   "cell_type": "code",
   "execution_count": 61,
   "metadata": {},
   "outputs": [],
   "source": [
    "from dotenv import load_dotenv\n",
    "import os\n",
    "\n",
    "def configure():\n",
    "    load_dotenv()"
   ]
  },
  {
   "cell_type": "code",
   "execution_count": 62,
   "metadata": {},
   "outputs": [],
   "source": [
    "def configure():\n",
    "    load_dotenv()\n"
   ]
  },
  {
   "attachments": {},
   "cell_type": "markdown",
   "metadata": {},
   "source": [
    "Get API data"
   ]
  },
  {
   "cell_type": "code",
   "execution_count": 63,
   "metadata": {},
   "outputs": [],
   "source": [
    "VALID_ACTION = {'ethsupply2', 'ethprice'}\n",
    "\n",
    "def get_ethstats(action):\n",
    "    # Error handling for specific parameter inputs\n",
    "    if action not in VALID_ACTION:\n",
    "        raise ValueError(\"Action must be one of %r.\" % VALID_ACTION)\n",
    "    # Load env config\n",
    "    configure()\n",
    "    # Define URL and get data\n",
    "    url = f\"https://api.etherscan.io/api?module=stats&action={action}&apikey={os.getenv('api_key')}\"\n",
    "    res = requests.get(url)\n",
    "    return res.json()\n",
    "\n",
    "json_SupplyData = get_ethstats('ethsupply2')\n",
    "json_PriceData = get_ethstats('ethprice')\n"
   ]
  },
  {
   "attachments": {},
   "cell_type": "markdown",
   "metadata": {},
   "source": []
  },
  {
   "cell_type": "code",
   "execution_count": 88,
   "metadata": {},
   "outputs": [
    {
     "name": "stdout",
     "output_type": "stream",
     "text": [
      "['1', 'OK']\n",
      "['1', 'OK']\n"
     ]
    }
   ],
   "source": [
    "keys = ['status','message']\n",
    "\n",
    "PriceCallStatus = list(map(json_SupplyData.get, keys))\n",
    "print(PriceCallStatus)\n",
    "\n",
    "SupplyCallStatus = list(map(json_PriceData.get, keys))\n",
    "print(SupplyCallStatus)\n",
    "#values = list(map())\n"
   ]
  },
  {
   "cell_type": "code",
   "execution_count": 64,
   "metadata": {},
   "outputs": [
    {
     "name": "stdout",
     "output_type": "stream",
     "text": [
      "                     EthSupply                Eth2Staking  \\\n",
      "0  122373866217800000000000000  1187683717196251000000000   \n",
      "\n",
      "                   BurntFees             WithdrawnTotal  \n",
      "0  3243849089305856770977483  2484951743300237000000000  \n",
      "    ethbtc ethbtc_timestamp   ethusd ethusd_timestamp\n",
      "0  0.06682       1683717377  1845.94       1683717379\n"
     ]
    }
   ],
   "source": [
    "df_SupplyData = pd.json_normalize(json_SupplyData['result'])\n",
    "print(SupplyData)\n",
    "\n",
    "df_PriceData = pd.json_normalize(json_PriceData['result'])\n",
    "print(PriceData)\n",
    "\n",
    "df_CallStatus = \n",
    "\n"
   ]
  },
  {
   "cell_type": "code",
   "execution_count": null,
   "metadata": {},
   "outputs": [],
   "source": []
  },
  {
   "cell_type": "code",
   "execution_count": null,
   "metadata": {},
   "outputs": [],
   "source": []
  }
 ],
 "metadata": {
  "kernelspec": {
   "display_name": "DataScience",
   "language": "python",
   "name": "python3"
  },
  "language_info": {
   "codemirror_mode": {
    "name": "ipython",
    "version": 3
   },
   "file_extension": ".py",
   "mimetype": "text/x-python",
   "name": "python",
   "nbconvert_exporter": "python",
   "pygments_lexer": "ipython3",
   "version": "3.8.5"
  },
  "orig_nbformat": 4
 },
 "nbformat": 4,
 "nbformat_minor": 2
}
