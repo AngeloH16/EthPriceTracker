{
 "cells": [
  {
   "attachments": {},
   "cell_type": "markdown",
   "metadata": {},
   "source": [
    "Test notebook for pulling API data\n",
    "\n",
    "Testing using EtherScan - getting historical gas prices: https://docs.etherscan.io/api-endpoints/gas-tracker#get-daily-average-gas-limit"
   ]
  },
  {
   "cell_type": "code",
   "execution_count": 32,
   "metadata": {},
   "outputs": [],
   "source": [
    "# Import Packages\n",
    "import requests\n",
    "import json\n",
    "import pandas as pd"
   ]
  },
  {
   "attachments": {},
   "cell_type": "markdown",
   "metadata": {},
   "source": [
    "Ethereum Price - Simple Method"
   ]
  },
  {
   "cell_type": "code",
   "execution_count": 52,
   "metadata": {},
   "outputs": [
    {
     "data": {
      "text/plain": [
       "{'status': '1',\n",
       " 'message': 'OK-Missing/Invalid API Key, rate limit of 1/5sec applied',\n",
       " 'result': {'ethbtc': '0.06651',\n",
       "  'ethbtc_timestamp': '1683540745',\n",
       "  'ethusd': '1860.35',\n",
       "  'ethusd_timestamp': '1683540744'}}"
      ]
     },
     "execution_count": 52,
     "metadata": {},
     "output_type": "execute_result"
    }
   ],
   "source": [
    "\n",
    "res = requests.get('https://api.etherscan.io/api?module=stats&action=ethprice&apikey=YourApiKeyToken')\n",
    "res.json()\n",
    "\n",
    "\n"
   ]
  },
  {
   "cell_type": "code",
   "execution_count": 70,
   "metadata": {},
   "outputs": [
    {
     "name": "stdout",
     "output_type": "stream",
     "text": [
      "    ethbtc ethbtc_timestamp   ethusd ethusd_timestamp\n",
      "0  0.06651       1683540745  1860.35       1683540744\n"
     ]
    }
   ],
   "source": [
    "data = res.json()\n",
    "df = pd.json_normalize(data['result'])\n",
    "print(df)"
   ]
  },
  {
   "cell_type": "code",
   "execution_count": null,
   "metadata": {},
   "outputs": [],
   "source": []
  },
  {
   "cell_type": "code",
   "execution_count": null,
   "metadata": {},
   "outputs": [],
   "source": []
  }
 ],
 "metadata": {
  "kernelspec": {
   "display_name": "DataScience",
   "language": "python",
   "name": "python3"
  },
  "language_info": {
   "codemirror_mode": {
    "name": "ipython",
    "version": 3
   },
   "file_extension": ".py",
   "mimetype": "text/x-python",
   "name": "python",
   "nbconvert_exporter": "python",
   "pygments_lexer": "ipython3",
   "version": "3.8.5"
  },
  "orig_nbformat": 4
 },
 "nbformat": 4,
 "nbformat_minor": 2
}
