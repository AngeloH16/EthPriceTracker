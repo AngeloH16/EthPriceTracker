{
 "cells": [
  {
   "attachments": {},
   "cell_type": "markdown",
   "metadata": {},
   "source": [
    "Test notebook for pulling API data\n",
    "\n",
    "Testing using EtherScan - getting historical gas prices: https://docs.etherscan.io/api-endpoints/gas-tracker#get-daily-average-gas-limit"
   ]
  },
  {
   "cell_type": "code",
   "execution_count": 125,
   "metadata": {},
   "outputs": [],
   "source": [
    "# Import Packages\n",
    "import requests\n",
    "import json\n",
    "import pandas as pd\n"
   ]
  },
  {
   "attachments": {},
   "cell_type": "markdown",
   "metadata": {},
   "source": [
    "Envinroment Loading"
   ]
  },
  {
   "cell_type": "code",
   "execution_count": 126,
   "metadata": {},
   "outputs": [],
   "source": [
    "from dotenv import load_dotenv\n",
    "import os\n",
    "\n",
    "def configure():\n",
    "    load_dotenv()"
   ]
  },
  {
   "cell_type": "code",
   "execution_count": 127,
   "metadata": {},
   "outputs": [],
   "source": [
    "def configure():\n",
    "    load_dotenv()\n"
   ]
  },
  {
   "attachments": {},
   "cell_type": "markdown",
   "metadata": {},
   "source": [
    "Get API data"
   ]
  },
  {
   "cell_type": "code",
   "execution_count": 128,
   "metadata": {},
   "outputs": [
    {
     "name": "stdout",
     "output_type": "stream",
     "text": [
      "{'status': '1', 'message': 'OK', 'result': {'ethbtc': '0.06691', 'ethbtc_timestamp': '1683719253', 'ethusd': '1850.81', 'ethusd_timestamp': '1683719248'}}\n"
     ]
    }
   ],
   "source": [
    "VALID_ACTION = {'ethsupply2', 'ethprice'}\n",
    "\n",
    "def get_ethstats(action):\n",
    "    # Error handling for specific parameter inputs\n",
    "    if action not in VALID_ACTION:\n",
    "        raise ValueError(\"Action must be one of %r.\" % VALID_ACTION)\n",
    "    # Load env config\n",
    "    configure()\n",
    "    # Define URL and get data\n",
    "    url = f\"https://api.etherscan.io/api?module=stats&action={action}&apikey={os.getenv('api_key')}\"\n",
    "    res = requests.get(url)\n",
    "    return res.json()\n",
    "\n",
    "json_SupplyData = get_ethstats('ethsupply2')\n",
    "json_PriceData = get_ethstats('ethprice')\n",
    "\n",
    "print(json_PriceData)\n"
   ]
  },
  {
   "cell_type": "code",
   "execution_count": 129,
   "metadata": {},
   "outputs": [],
   "source": [
    "keys = ['status','message']\n",
    "\n",
    "PriceCallStatus = list(map(json_SupplyData.get, keys))\n",
    "#print(PriceCallStatus)\n",
    "\n",
    "SupplyCallStatus = list(map(json_PriceData.get, keys))\n",
    "#print(SupplyCallStatus)\n",
    "#values = list(map())\n",
    "    \n",
    "# if PriceCallStatus[0] != '1':\n",
    "#     raise ValueError(\"Status error on ethprice call\")\n",
    "# elif PriceCallStatus[1] != '1':\n",
    "#     raise ValueError(\"Auth error on ethprice call\")\n",
    "# elif SupplyCallStatus[0] != 1:\n",
    "#     raise ValueError(\"Status error on ethsupply2 call\")\n",
    "# elif SupplyCallStatus[1] != 1:\n",
    "#     raise ValueError(\"Auth error on ethsupply2 call\")\n",
    "# else:\n",
    "#     print('API call success')"
   ]
  },
  {
   "attachments": {},
   "cell_type": "markdown",
   "metadata": {},
   "source": [
    "Convert API data to Dataframes"
   ]
  },
  {
   "cell_type": "code",
   "execution_count": 135,
   "metadata": {},
   "outputs": [
    {
     "name": "stdout",
     "output_type": "stream",
     "text": [
      "                     EthSupply                Eth2Staking  \\\n",
      "0  122373866217800000000000000  1187683717196251000000000   \n",
      "\n",
      "                   BurntFees             WithdrawnTotal  \n",
      "0  3243849089305856770977483  2484951743300237000000000  \n",
      "    ethbtc ethbtc_timestamp   ethusd ethusd_timestamp\n",
      "0  0.06691       1683719253  1850.81       1683719248\n"
     ]
    }
   ],
   "source": [
    "df_SupplyData = pd.json_normalize(json_SupplyData['result'])\n",
    "df_PriceData = pd.json_normalize(json_PriceData['result'])\n"
   ]
  },
  {
   "cell_type": "code",
   "execution_count": 136,
   "metadata": {},
   "outputs": [],
   "source": [
    "CallStatusData = {'PriceCallStatus':PriceCallStatus[0],\n",
    "                        'PriceCallMessage':PriceCallStatus[1],\n",
    "                        'SupplyCallStatus':SupplyCallStatus[0],\n",
    "                        'SupplyCallMessage':SupplyCallStatus[1]}\n",
    "\n",
    "\n",
    "df_CallStatusData = pd.DataFrame([CallStatusData])"
   ]
  },
  {
   "cell_type": "code",
   "execution_count": null,
   "metadata": {},
   "outputs": [],
   "source": []
  },
  {
   "cell_type": "code",
   "execution_count": null,
   "metadata": {},
   "outputs": [],
   "source": []
  }
 ],
 "metadata": {
  "kernelspec": {
   "display_name": "DataScience",
   "language": "python",
   "name": "python3"
  },
  "language_info": {
   "codemirror_mode": {
    "name": "ipython",
    "version": 3
   },
   "file_extension": ".py",
   "mimetype": "text/x-python",
   "name": "python",
   "nbconvert_exporter": "python",
   "pygments_lexer": "ipython3",
   "version": "3.8.5"
  },
  "orig_nbformat": 4
 },
 "nbformat": 4,
 "nbformat_minor": 2
}
