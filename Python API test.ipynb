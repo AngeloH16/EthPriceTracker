{
 "cells": [
  {
   "attachments": {},
   "cell_type": "markdown",
   "metadata": {},
   "source": [
    "Test notebook for pulling API data\n",
    "\n",
    "Testing using EtherScan - getting historical gas prices: https://docs.etherscan.io/api-endpoints/gas-tracker#get-daily-average-gas-limit"
   ]
  },
  {
   "cell_type": "code",
   "execution_count": 1,
   "metadata": {},
   "outputs": [],
   "source": [
    "# Import Packages\n",
    "import requests\n",
    "import json\n",
    "import pandas as pd\n"
   ]
  },
  {
   "attachments": {},
   "cell_type": "markdown",
   "metadata": {},
   "source": [
    "Ethereum Price - Simple Method"
   ]
  },
  {
   "cell_type": "code",
   "execution_count": 34,
   "metadata": {},
   "outputs": [],
   "source": [
    "VALID_ACTION = {'ethsupply2', 'ethprice'}\n",
    "\n",
    "def get_ethstats(action):\n",
    "    if action not in VALID_ACTION:\n",
    "        raise ValueError(\"Action must be one of %r.\" % VALID_ACTION)\n",
    "    url = f\"https://api.etherscan.io/api?module=stats&action={action}&apikey={api_key}\"\n",
    "    #print(url)\n",
    "    res = requests.get(url)\n",
    "    return res.json()\n",
    "\n",
    "\n"
   ]
  },
  {
   "cell_type": "code",
   "execution_count": 42,
   "metadata": {},
   "outputs": [
    {
     "name": "stdout",
     "output_type": "stream",
     "text": [
      "                     EthSupply                Eth2Staking  \\\n",
      "0  122373866217800000000000000  1187683717196251000000000   \n",
      "\n",
      "                   BurntFees             WithdrawnTotal  \n",
      "0  3243849089305856770977483  2484951743300237000000000  \n",
      "    ethbtc ethbtc_timestamp   ethusd ethusd_timestamp\n",
      "0  0.06679       1683716709  1844.27       1683716703\n"
     ]
    }
   ],
   "source": [
    "SupplyData = pd.json_normalize(get_ethstats('ethsupply2')['result'])\n",
    "print(SupplyData)\n",
    "\n",
    "PriceData = pd.json_normalize(get_ethstats('ethprice')['result'])\n",
    "print(PriceData)\n",
    "\n"
   ]
  },
  {
   "cell_type": "code",
   "execution_count": null,
   "metadata": {},
   "outputs": [],
   "source": []
  },
  {
   "cell_type": "code",
   "execution_count": null,
   "metadata": {},
   "outputs": [],
   "source": []
  }
 ],
 "metadata": {
  "kernelspec": {
   "display_name": "DataScience",
   "language": "python",
   "name": "python3"
  },
  "language_info": {
   "codemirror_mode": {
    "name": "ipython",
    "version": 3
   },
   "file_extension": ".py",
   "mimetype": "text/x-python",
   "name": "python",
   "nbconvert_exporter": "python",
   "pygments_lexer": "ipython3",
   "version": "3.8.5"
  },
  "orig_nbformat": 4
 },
 "nbformat": 4,
 "nbformat_minor": 2
}
